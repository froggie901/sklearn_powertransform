{
 "cells": [
  {
   "cell_type": "markdown",
   "metadata": {},
   "source": [
    "# SKLEARN POWER TRANSFORMER MODULE \n",
    "## By Patrick L. Cavins\n",
    "\n",
    "In this notebook, you will find an introduction to sklearn's power transformer module. This notebook uses the Ames, IA data set. This notebook is meant to accompany a Medium article, [Sklearn's Power Transformer Module](https://www.google.com/url?sa=t&rct=j&q=&esrc=s&source=web&cd=1&cad=rja&uact=8&ved=2ahUKEwjHos3Ip73lAhVTKH0KHYF4BM8QFjAAegQIABAG&url=https%3A%2F%2Fmedium.com%2F%40patricklcavins%2Fusing-scipys-powertransformer-3e2b792fd712&usg=AOvVaw1Iu9cCc3G1i1Y4IknM8nVr)\n",
    "\n",
    "**CONTENTS INCLUDE:**\n",
    "-  Importing Data with Pandas \n",
    "-  Checking for Normality:\n",
    "    - Visually (Histograms) \n",
    "    - Descriptive Statistics (Skew and Kurtosis)\n",
    "    - D'Angostino's $K^{2}$ Test\n",
    "- "
   ]
  },
  {
   "cell_type": "code",
   "execution_count": 56,
   "metadata": {},
   "outputs": [],
   "source": [
    "# The Imports\n",
    "\n",
    "import pandas as pd \n",
    "import numpy as np \n",
    "import seaborn as sns\n",
    "from matplotlib import pyplot as plt\n",
    "from scipy import stats"
   ]
  },
  {
   "cell_type": "markdown",
   "metadata": {},
   "source": [
    "## Load the Data and Some Quick EDA\n",
    "\n",
    "- Using the **Garage Area** feature from the Ames dataset.\n",
    "- Units, $ft^{2}$\n",
    "- a single NaN, replaced with 0\n",
    "- Multiple 0's ~ working under the assumption that a zero indicates that a garage was not present "
   ]
  },
  {
   "cell_type": "code",
   "execution_count": 15,
   "metadata": {},
   "outputs": [
    {
     "name": "stdout",
     "output_type": "stream",
     "text": [
      "The numbers of nulls: 1\n",
      "The numbers of nulls: 0\n"
     ]
    }
   ],
   "source": [
    "#Load the Data\n",
    "df = pd.read_csv('./train.csv')\n",
    "\n",
    "#Checking for Nulls / EDA \n",
    "nulls = df['Garage Area'].isnull().sum()\n",
    "print (f'The numbers of nulls: {nulls}')\n",
    "\n",
    "#Replace the Null with 0 \n",
    "df['Garage Area'] = df['Garage Area'].replace(np.nan, 0)\n",
    "nulls = df['Garage Area'].isnull().sum()\n",
    "print (f'The numbers of nulls: {nulls}')\n",
    "\n",
    "#Drop Zeros from the pd.series (if zero we can assume that a garage is not around) \n",
    "garage_area = df['Garage Area']\n",
    "garage_area = garage_area[garage_area != 0]"
   ]
  },
  {
   "cell_type": "markdown",
   "metadata": {},
   "source": [
    "## Checking the Distribution using `Seaborn's Distplot`\n",
    "Going to create a histogram using `distplot`. I, personally, prefer to keep the kernel density estimate turned off when I am inspecting data visually.  "
   ]
  },
  {
   "cell_type": "code",
   "execution_count": 25,
   "metadata": {},
   "outputs": [
    {
     "name": "stderr",
     "output_type": "stream",
     "text": [
      "/anaconda3/lib/python3.6/site-packages/scipy/stats/stats.py:1713: FutureWarning: Using a non-tuple sequence for multidimensional indexing is deprecated; use `arr[tuple(seq)]` instead of `arr[seq]`. In the future this will be interpreted as an array index, `arr[np.array(seq)]`, which will result either in an error or a different result.\n",
      "  return np.add.reduce(sorted[indexer] * weights, axis=axis) / sumval\n"
     ]
    },
    {
     "data": {
      "image/png": "[encoded data removed]",
      "text/plain": [
       "<Figure size 432x288 with 1 Axes>"
      ]
     },
     "metadata": {},
     "output_type": "display_data"
    }
   ],
   "source": [
    "#Plot a Histogram of the data \n",
    "ax = sns.distplot(garage_area, kde=True)\n",
    "ax.set(xlabel= 'Garage Area (ft^2)', ylabel='Counts', title='Frequency of Garage Sizes (ft^2)')\n",
    "plt.show();"
   ]
  },
  {
   "cell_type": "markdown",
   "metadata": {},
   "source": [
    "## Kurtosis and Skew in the Distribution \n",
    "\n",
    "Before we go and change the distruction using power transformer, it is important to take note of the skewness and the kurtosis in the data. These descriptive statistics would something you might report in any kind of formal report you might provide. "
   ]
  },
  {
   "cell_type": "code",
   "execution_count": 18,
   "metadata": {},
   "outputs": [
    {
     "name": "stdout",
     "output_type": "stream",
     "text": [
      "A skew of 0.802 means the distribution is moderately skewed\n",
      "A kurtosis of 1.034 means the distribution is heavy-tailed (positive) sometimes called a leptokurtic distribution\n"
     ]
    }
   ],
   "source": [
    "#Calculating Skew and Kurtosis \n",
    "kurtosis = round((stats.kurtosis(garage_area)), ndigits=3)\n",
    "skew = round((stats.skew(garage_area)), ndigits=3)\n",
    "\n",
    "#Interpreting Skew \n",
    "if -0.5 < skew < 0.5:\n",
    "    print (f'A skew of {skew} means the distribution is approx. symmetric')\n",
    "elif  -0.5 < skew < -1.0 or 0.5 < skew < 1.0:\n",
    "    print (f'A skew of {skew} means the distribution is moderately skewed')\n",
    "else:\n",
    "    print (f'A skew of {skew} means the distribution is highly skewed')\n",
    "\n",
    "#Interpreting Kurtosis\n",
    "if  -0.5 < kurtosis < 0.5:\n",
    "    print (f'A kurtosis of {kurtosis} means the distribution is approximately normal sometimes called mesokurtic distributions')\n",
    "elif kurtosis <= -0.5: \n",
    "    print (f'A kurtosis of {kurtosis} means the distribution is light-tailed (negative) sometimes called a platykurtic        distributions')\n",
    "elif kurtosis >= 0.5:\n",
    "    print (f'A kurtosis of {kurtosis} means the distribution is heavy-tailed (positive) sometimes called a leptokurtic distribution')"
   ]
  },
  {
   "cell_type": "markdown",
   "metadata": {},
   "source": [
    "## Angostino K^2 Test \n",
    "\n"
   ]
  },
  {
   "cell_type": "code",
   "execution_count": 19,
   "metadata": {},
   "outputs": [
    {
     "name": "stdout",
     "output_type": "stream",
     "text": [
      "Statistic=204.99777884661893, p=3.057017481546973e-45\n",
      "--------------------------------------------------\n",
      "Sample does not look Gaussian (reject H0)\n"
     ]
    }
   ],
   "source": [
    "#calculate\n",
    "stat, p = stats.normaltest(garage_area)\n",
    "print (f'Statistic={stat}, p={p}')\n",
    "print ('--'*25) \n",
    "\n",
    "# interpret\n",
    "alpha = 0.05\n",
    "if p > alpha:\n",
    "\tprint('Sample looks Gaussian (fail to reject H0)')\n",
    "else:\n",
    "\tprint('Sample does not look Gaussian (reject H0)')"
   ]
  },
  {
   "cell_type": "markdown",
   "metadata": {},
   "source": [
    "## Mathematical Conversion of Garage Area variable \n",
    "\n",
    "- The `lambda` variable effects the strength of the transformation we are performing\n",
    "\n",
    "- We eventually are going to want to optimize the lambda for this specific feature"
   ]
  },
  {
   "cell_type": "code",
   "execution_count": 35,
   "metadata": {},
   "outputs": [],
   "source": [
    "# Calculating Values in the Box-Cox Transformation\n",
    "# xt = (x**lambda - 1) / lambda\n",
    "\n",
    "# define the set of lambda's that we want to search over\n",
    "lmbda = [0.1, 1.0]\n",
    "\n",
    "garage_area_xt = []\n",
    "\n",
    "for i in lmbda: \n",
    "    #x = the input data \n",
    "    x = garage_area \n",
    "    #box-cox transformation \n",
    "    transform = (x**i - 1) / i\n",
    "    #appending the list \n",
    "    garage_area_xt.append(transform)"
   ]
  },
  {
   "cell_type": "code",
   "execution_count": 44,
   "metadata": {},
   "outputs": [
    {
     "data": {
      "text/plain": [
       "0.1"
      ]
     },
     "execution_count": 44,
     "metadata": {},
     "output_type": "execute_result"
    }
   ],
   "source": [
    "lmbda[0]"
   ]
  },
  {
   "cell_type": "code",
   "execution_count": 58,
   "metadata": {},
   "outputs": [
    {
     "name": "stderr",
     "output_type": "stream",
     "text": [
      "/anaconda3/lib/python3.6/site-packages/scipy/stats/stats.py:1713: FutureWarning: Using a non-tuple sequence for multidimensional indexing is deprecated; use `arr[tuple(seq)]` instead of `arr[seq]`. In the future this will be interpreted as an array index, `arr[np.array(seq)]`, which will result either in an error or a different result.\n",
      "  return np.add.reduce(sorted[indexer] * weights, axis=axis) / sumval\n"
     ]
    },
    {
     "data": {
      "image/png": "[encoded data removed]",
      "text/plain": [
       "<Figure size 432x288 with 1 Axes>"
      ]
     },
     "metadata": {},
     "output_type": "display_data"
    }
   ],
   "source": [
    "#Plotting the Changes \n",
    "sns.kdeplot(garage_area, shade=True, label=\"Raw\")\n",
    "sns.kdeplot(garage_area_xt[0], shade=True, \n",
    "            label= f\"Lambda Value: {lmbda[0]}\")\n",
    "sns.kdeplot(garage_area_xt[1], shade=True, \n",
    "            label= f'Lambda Value: {lmbda[1]}')\n",
    "\n",
    "\n",
    "#plot with z-score normalization \n",
    "garage_area_zscore = stats.zscore(garage_area)\n",
    "# garage_area_lbmd1  = stats.\n",
    "\n",
    "sns.kdeplot(garage_area_zscore, shade=True, label=\"Raw, Normalized\");"
   ]
  },
  {
   "cell_type": "code",
   "execution_count": null,
   "metadata": {},
   "outputs": [],
   "source": []
  },
  {
   "cell_type": "code",
   "execution_count": null,
   "metadata": {},
   "outputs": [],
   "source": []
  },
  {
   "cell_type": "code",
   "execution_count": null,
   "metadata": {},
   "outputs": [],
   "source": []
  },
  {
   "cell_type": "code",
   "execution_count": null,
   "metadata": {},
   "outputs": [],
   "source": []
  },
  {
   "cell_type": "code",
   "execution_count": null,
   "metadata": {},
   "outputs": [],
   "source": []
  },
  {
   "cell_type": "code",
   "execution_count": null,
   "metadata": {},
   "outputs": [],
   "source": []
  },
  {
   "cell_type": "code",
   "execution_count": null,
   "metadata": {},
   "outputs": [],
   "source": []
  },
  {
   "cell_type": "code",
   "execution_count": null,
   "metadata": {},
   "outputs": [],
   "source": []
  },
  {
   "cell_type": "code",
   "execution_count": null,
   "metadata": {},
   "outputs": [],
   "source": []
  },
  {
   "cell_type": "code",
   "execution_count": null,
   "metadata": {},
   "outputs": [],
   "source": []
  },
  {
   "cell_type": "code",
   "execution_count": null,
   "metadata": {},
   "outputs": [],
   "source": []
  },
  {
   "cell_type": "code",
   "execution_count": null,
   "metadata": {},
   "outputs": [],
   "source": []
  },
  {
   "cell_type": "code",
   "execution_count": null,
   "metadata": {},
   "outputs": [],
   "source": []
  },
  {
   "cell_type": "code",
   "execution_count": null,
   "metadata": {},
   "outputs": [],
   "source": []
  },
  {
   "cell_type": "code",
   "execution_count": null,
   "metadata": {},
   "outputs": [],
   "source": []
  },
  {
   "cell_type": "code",
   "execution_count": null,
   "metadata": {},
   "outputs": [],
   "source": []
  },
  {
   "cell_type": "markdown",
   "metadata": {},
   "source": [
    "## Converting Data \n",
    "\n",
    "### Finding the optimal Lambda value using `stats.boxcox_normplot()`\n",
    "\n",
    "\n",
    "\n",
    "\n",
    "\n",
    "\n",
    "\n",
    "\n",
    "\n",
    "\n",
    "\n",
    "\n",
    "\n",
    "\n",
    "\n",
    "\n",
    "\n",
    "\n",
    "\n",
    "\n"
   ]
  },
  {
   "cell_type": "code",
   "execution_count": 22,
   "metadata": {},
   "outputs": [
    {
     "name": "stdout",
     "output_type": "stream",
     "text": [
      "The optimal lambda is 0.24792604287869996\n"
     ]
    },
    {
     "data": {
      "image/png": "[encoded data removed]",
      "text/plain": [
       "<Figure size 432x288 with 1 Axes>"
      ]
     },
     "metadata": {},
     "output_type": "display_data"
    }
   ],
   "source": [
    "fig = plt.figure()\n",
    "ax = fig.add_subplot(111)\n",
    "prob = stats.boxcox_normplot(garage_area, -5, 5, plot=ax)\n",
    "garage_area_xt, maxlog = stats.boxcox(garage_area)\n",
    "ax.axvline(maxlog, color='r')\n",
    "\n",
    "print (f'The optimal lambda is {maxlog}')\n"
   ]
  },
  {
   "cell_type": "markdown",
   "metadata": {},
   "source": [
    "## Comparing Histograms"
   ]
  },
  {
   "cell_type": "code",
   "execution_count": 23,
   "metadata": {},
   "outputs": [
    {
     "data": {
      "text/plain": [
       "((array([-3.38354553, -3.13188225, -2.99225756, ...,  2.99225756,\n",
       "          3.13188225,  3.38354553]),\n",
       "  array([ 8.60022098, 10.16157831, 10.16157831, ..., 20.04393322,\n",
       "         20.07928121, 20.34804173])),\n",
       " (1.744688020129585, 14.561598717933183, 0.9951528024307996))"
      ]
     },
     "execution_count": 23,
     "metadata": {},
     "output_type": "execute_result"
    },
    {
     "data": {
      "image/png": "[encoded data removed]",
      "text/plain": [
       "<Figure size 432x288 with 1 Axes>"
      ]
     },
     "metadata": {},
     "output_type": "display_data"
    }
   ],
   "source": [
    "#importing the qqplot tool from statsmodels \n",
    "from statsmodels.graphics.gofplots import qqplot\n",
    "\n",
    "#making the graph \n",
    "stats.probplot(garage_area_xt, plot=plt)"
   ]
  },
  {
   "cell_type": "markdown",
   "metadata": {},
   "source": [
    "## Distrubtion of the Garage Area variable after the Box-Cox transformation "
   ]
  },
  {
   "cell_type": "code",
   "execution_count": 24,
   "metadata": {},
   "outputs": [
    {
     "name": "stderr",
     "output_type": "stream",
     "text": [
      "/anaconda3/lib/python3.6/site-packages/scipy/stats/stats.py:1713: FutureWarning: Using a non-tuple sequence for multidimensional indexing is deprecated; use `arr[tuple(seq)]` instead of `arr[seq]`. In the future this will be interpreted as an array index, `arr[np.array(seq)]`, which will result either in an error or a different result.\n",
      "  return np.add.reduce(sorted[indexer] * weights, axis=axis) / sumval\n"
     ]
    },
    {
     "data": {
      "image/png": "[encoded data removed]",
      "text/plain": [
       "<Figure size 432x288 with 1 Axes>"
      ]
     },
     "metadata": {},
     "output_type": "display_data"
    }
   ],
   "source": [
    "ax = sns.distplot(garage_area_xt, kde=False)\n",
    "ax.set(xlabel= 'Trasnformed Garage Area', ylabel='Counts', title='Frequency of Garage Sizes')\n",
    "plt.show()"
   ]
  },
  {
   "cell_type": "code",
   "execution_count": null,
   "metadata": {},
   "outputs": [],
   "source": []
  }
 ],
 "metadata": {
  "file_extension": ".py",
  "kernelspec": {
   "display_name": "Python 3",
   "language": "python",
   "name": "python3"
  },
  "language_info": {
   "codemirror_mode": {
    "name": "ipython",
    "version": 3
   },
   "file_extension": ".py",
   "mimetype": "text/x-python",
   "name": "python",
   "nbconvert_exporter": "python",
   "pygments_lexer": "ipython3",
   "version": "3.6.5"
  },
  "mimetype": "text/x-python",
  "name": "python",
  "npconvert_exporter": "python",
  "pygments_lexer": "ipython3",
  "version": 3
 },
 "nbformat": 4,
 "nbformat_minor": 2
}
