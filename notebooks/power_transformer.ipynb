{
 "cells": [
  {
   "cell_type": "markdown",
   "metadata": {},
   "source": [
    "# Power Transformer 101\n",
    "## By: Patrick L. Cavins \n",
    "\n",
    "### This notebook was developed to be used with lighting talk "
   ]
  },
  {
   "cell_type": "markdown",
   "metadata": {},
   "source": [
    "## What? \n",
    "\n",
    "### Powertransformer is part of sklearn preprocessing module\n",
    "\n",
    "\n",
    "### The individual transformers can be found inside the SciPy stats module\n",
    "\n",
    "- The key part of this technique is found right in the name **TRANSFORM** \n",
    "- Two data transformers are inside this module \n",
    "    - Box-Cox Transformation (will take in **ONLY** positive values) \n",
    "    - Yeo Johnson Transformation (can take in **BOTH** positive and negative values) \n",
    "    - What about 0? \n",
    "        - She ain't no hero here... \n",
    "    \n",
    "    \n",
    "![alt text](boxcox_beforeafter.png \"Title\")    "
   ]
  },
  {
   "cell_type": "markdown",
   "metadata": {},
   "source": [
    "# The Math \n",
    "\n",
    "## Lambda can be between -5 and 5\n",
    "\n",
    "## The Confidence Interval is important! \n",
    "\n",
    "![alt text](math_boxcox.png \"Title\")"
   ]
  },
  {
   "cell_type": "code",
   "execution_count": 4,
   "metadata": {},
   "outputs": [],
   "source": [
    "#Libraries needed for this demonstration\n",
    "\n",
    "import pandas as pd \n",
    "import numpy as np \n",
    "from sklearn.preprocessing import PowerTransformer\n",
    "from scipy import stats\n",
    "import seaborn as sns \n",
    "import matplotlib.pyplot as plt\n",
    "\n",
    "%matplotlib inline "
   ]
  },
  {
   "cell_type": "markdown",
   "metadata": {},
   "source": [
    "## A Quick Demo"
   ]
  },
  {
   "cell_type": "code",
   "execution_count": 6,
   "metadata": {},
   "outputs": [
    {
     "data": {
      "text/plain": "0    475.0\n1    559.0\n2    246.0\n3    400.0\n4    484.0\n5    578.0\n6    525.0\n7    531.0\n8    420.0\n9    504.0\nName: Garage Area, dtype: float64"
     },
     "execution_count": 6,
     "metadata": {},
     "output_type": "execute_result"
    }
   ],
   "source": [
    "# Import the Data, in this case AMES Housing Data. We are only working with one-column \n",
    "df = pd.read_csv('../data/train.csv')\n",
    "\n",
    "df['Garage Area'].head(10)\n"
   ]
  },
  {
   "cell_type": "markdown",
   "metadata": {},
   "source": [
    "## Import the data and some quick EDA "
   ]
  },
  {
   "cell_type": "code",
   "execution_count": null,
   "metadata": {},
   "outputs": [],
   "source": [
    "#Load the Data\n",
    "df = pd.read_csv('./train.csv')\n",
    "\n",
    "#Checking for Nulls / EDA \n",
    "nulls = df['Garage Area'].isnull().sum()\n",
    "print (f'The numbers of nulls: {nulls}')\n",
    "\n",
    "#Replace the Null with 0 \n",
    "df['Garage Area'] = df['Garage Area'].replace(np.nan, 0)\n",
    "nulls = df['Garage Area'].isnull().sum()\n",
    "print (f'The numbers of nulls: {nulls}')\n",
    "\n",
    "#Drop Zeros from the pd.series (if zero we can assume that a garage is not around) \n",
    "garage_area = df['Garage Area']\n",
    "garage_area = garage_area[garage_area != 0]\n",
    "\n",
    "garage_area = np.asarray(df['Garage Area'])"
   ]
  },
  {
   "cell_type": "code",
   "execution_count": null,
   "metadata": {},
   "outputs": [],
   "source": [
    "# We can see that this data is screwed, and does not represent a normal distribution \n",
    "\n",
    "plt.figure(figsize=(8,5))\n",
    "sns.kdeplot(garage_area, shade=True);"
   ]
  },
  {
   "cell_type": "code",
   "execution_count": null,
   "metadata": {},
   "outputs": [],
   "source": [
    "# Values in the Box-Cox Transformation\n",
    "# xt = (x**lambda - 1) / lambda \n",
    "\n",
    "# define the set of lambda's that we want to search over\n",
    "lmbda = np.linspace(start = .1, stop = 1.0, num=4) \n",
    "\n",
    "xt = []\n",
    "lambda_list = []\n",
    "for i in lmbda: \n",
    "    #x = the input data \n",
    "    x = garage_area \n",
    "    #box-cox transformation \n",
    "    transform = (x**i - 1) / i\n",
    "    #appending the list \n",
    "    xt.append(transform)"
   ]
  },
  {
   "cell_type": "code",
   "execution_count": null,
   "metadata": {},
   "outputs": [],
   "source": [
    "print ('These are the tranformed values, Box-Cox Transformation for a given Lambda')\n",
    "print ('--'*50)\n",
    "print (xt[1]) # we can grab the individual values \n",
    "print ('--'*50)\n",
    "print ('These are the lambdas which we used in this transformation')\n",
    "print (lmbda) # this is the list of lambda's we generated "
   ]
  },
  {
   "cell_type": "code",
   "execution_count": null,
   "metadata": {},
   "outputs": [],
   "source": [
    "print (lmbda)"
   ]
  },
  {
   "cell_type": "markdown",
   "metadata": {},
   "source": [
    "## The lambda has **HUGE** effect on the distrubtion of the data "
   ]
  },
  {
   "cell_type": "code",
   "execution_count": null,
   "metadata": {},
   "outputs": [],
   "source": [
    "sns.kdeplot(garage_area, shade=True, label=\"Raw\")\n",
    "sns.kdeplot(xt[0], shade=True, label= f\"BC_Tranform(Lambda Value: {round(lmbda[0],3)}\")\n",
    "sns.kdeplot(xt[1], shade=True, label= f\"BC_Tranform(Lambda Value: {round(lmbda[1],3)}\")\n",
    "sns.kdeplot(xt[2], shade=True, label= f\"BC_Tranform(Lambda Value: {round(lmbda[2],3)}\")\n",
    "sns.kdeplot(xt[3], shade=True, label= f\"BC_Tranform(Lambda Value: {round(lmbda[3],3)}\")\n",
    "\n",
    "# set the legend location\n",
    "plt.legend(loc='center left', bbox_to_anchor=(1, 0.5))\n",
    "\n",
    "# control x and y limits\n",
    "plt.ylim(0, 0.06)\n",
    "plt.xlim(0, 300)\n"
   ]
  },
  {
   "cell_type": "markdown",
   "metadata": {},
   "source": [
    "## The trick of Box-Cox transformation is to find lambda value...\n",
    "\n",
    "However in practice this is quite affordable. The following function returns the transformed variable, lambda value, confidence interval for lambda according to certain alpha level (default = 0.05). \n",
    "\n",
    "- garage_area_xt: transformed variable\n",
    "- maxlog: lambda\n",
    "- interval: confidence interval\n",
    "\n",
    "- http://dataunderthehood.com/2018/01/15/box-cox-transformation-with-python/"
   ]
  },
  {
   "cell_type": "code",
   "execution_count": null,
   "metadata": {},
   "outputs": [],
   "source": [
    "garage_area_xt, maxlog, interval = stats.boxcox(garage_area, alpha=0.95)\n",
    "\n",
    "print (maxlog)\n",
    "print (interval)\n",
    "print (garage_area_xt)"
   ]
  },
  {
   "cell_type": "markdown",
   "metadata": {},
   "source": [
    "## The change is so dramatic you cannot visualize it on a single graph, easily"
   ]
  },
  {
   "cell_type": "code",
   "execution_count": null,
   "metadata": {},
   "outputs": [],
   "source": [
    "# Changes in the KDE... \n",
    "sns.kdeplot(garage_area, shade=True, label=\"Raw\")\n",
    "sns.kdeplot(garage_area_xt, shade=True, label=\"Transformed\")\n",
    "plt.title('Comparing the Raw Input to the Transformed Output')"
   ]
  },
  {
   "cell_type": "markdown",
   "metadata": {},
   "source": [
    "## Data normalization, ZScore or MinMax Scaler"
   ]
  },
  {
   "cell_type": "code",
   "execution_count": null,
   "metadata": {},
   "outputs": [],
   "source": [
    "## Z-Score (garage area)\n",
    "\n",
    "garage_area_std = np.std(garage_area)\n",
    "\n",
    "print (garage_area_std)\n",
    "\n",
    "garage_area_Z = ((garage_area -garage_area.mean()) / (garage_area_std)) \n",
    "\n",
    "# plot a histogram\n",
    "plt.hist(garage_area_Z);"
   ]
  },
  {
   "cell_type": "code",
   "execution_count": null,
   "metadata": {},
   "outputs": [],
   "source": [
    "## Z-Score (garage area_xt)\n",
    "\n",
    "garage_area_xt_std = np.std(garage_area_xt)\n",
    "\n",
    "print (garage_area_xt_std)\n",
    "\n",
    "garage_area_xt_Z = ((garage_area_xt - garage_area_xt.mean()) / (garage_area_xt_std))\n",
    "\n",
    "# plot a histogram \n",
    "plt.hist(garage_area_xt_Z);"
   ]
  },
  {
   "cell_type": "code",
   "execution_count": null,
   "metadata": {},
   "outputs": [],
   "source": [
    "# Changes in the KDE!  \n",
    "plt.figure(figsize=(13,8))\n",
    "sns.set_context('poster')\n",
    "sns.kdeplot(garage_area_Z, shade=True, color='navy', label=\"Raw (normalized)\")\n",
    "sns.kdeplot(garage_area_xt_Z, shade=True, color='gold', label=\"Transformed (normalized)\")"
   ]
  },
  {
   "cell_type": "markdown",
   "metadata": {},
   "source": [
    "## Using the Sklearn Module"
   ]
  },
  {
   "cell_type": "code",
   "execution_count": null,
   "metadata": {},
   "outputs": [],
   "source": [
    "# Let's use two features...\n",
    "\n",
    "print (df['Lot Area'].min())"
   ]
  },
  {
   "cell_type": "code",
   "execution_count": null,
   "metadata": {},
   "outputs": [],
   "source": [
    "plt.figure(figsize=(8,5))\n",
    "sns.kdeplot(df['Lot Area'], shade=True)"
   ]
  },
  {
   "cell_type": "code",
   "execution_count": null,
   "metadata": {},
   "outputs": [],
   "source": [
    "#Features \n",
    "x = df[['Garage Area', 'Lot Area']]"
   ]
  },
  {
   "cell_type": "markdown",
   "metadata": {},
   "source": [
    "## Instantiate PowerTransformer \n",
    "\n",
    "\n",
    "### Parameters \n",
    "\n",
    "**method** : str, (default=’yeo-johnson’)\n",
    "\n",
    "**standardize** : boolean, default=True\n",
    "Set to True to apply zero-mean, unit-variance normalization to the transformed output.\n",
    "\n",
    "### Attributes\n",
    "\n",
    "**lambdas_**: array of float, shape (n_features,)\n",
    "The parameters of the power transformation for the selected features."
   ]
  },
  {
   "cell_type": "code",
   "execution_count": null,
   "metadata": {},
   "outputs": [],
   "source": [
    "pt = PowerTransformer(method='yeo-johnson', standardize=True,) \n",
    "\n",
    "#Fit the data to the powertransformer\n",
    "skl_yj = pt.fit(x)"
   ]
  },
  {
   "cell_type": "code",
   "execution_count": null,
   "metadata": {},
   "outputs": [],
   "source": [
    "#Here are the lambdas \n",
    "skl_yj.lambdas_"
   ]
  },
  {
   "cell_type": "code",
   "execution_count": null,
   "metadata": {},
   "outputs": [],
   "source": [
    "#Transform \n",
    "skl_yj = pt.transform(x)"
   ]
  },
  {
   "cell_type": "code",
   "execution_count": null,
   "metadata": {},
   "outputs": [],
   "source": [
    "lot_area = np.asarray(df['Lot Area'])"
   ]
  },
  {
   "cell_type": "code",
   "execution_count": null,
   "metadata": {},
   "outputs": [],
   "source": [
    "plt.figure(figsize=(6,6))\n",
    "sns.set_context('poster')\n",
    "sns.kdeplot(garage_area, shade=True, color='navy', label=\"Garage Area\")\n",
    "sns.kdeplot(lot_area, shade=True, color='gold', label=\"Lot Area\")\n",
    "\n",
    "# control x and y limits\n",
    "# plt.ylim(0, 0.06)\n",
    "# plt.xlim(0, 20_000)"
   ]
  },
  {
   "cell_type": "code",
   "execution_count": null,
   "metadata": {},
   "outputs": [],
   "source": [
    "plt.figure(figsize=(8,4))\n",
    "plt.hist(skl_boxcox, bins=15);"
   ]
  },
  {
   "cell_type": "markdown",
   "metadata": {},
   "source": [
    "## Good Tidbits:\n",
    "\n",
    "\"Box-cox transformation is a statistical technique used to remove heteroscedasticity of a variable and also make it look like more normally distributed, which represents a big deal for statisticians and economists regarding normality and homoscedasticity assumptions for linear models.\"\n",
    "\n",
    "http://dataunderthehood.com/2018/01/15/box-cox-transformation-with-python/\n",
    "\n",
    "\n",
    "\n",
    "\"For example, the data may have a skew, meaning that the bell in the bell shape may be pushed one way or another.\"\n",
    "\n",
    "https://machinelearningmastery.com/how-to-transform-data-to-fit-the-normal-distribution/\n",
    "\n",
    "\n",
    "\n",
    "\"But, generally the answer is that for most meaningful analysis, you need the same 𝜆 value for all datasets. The reason is that the Box-Cox transformation **not only changes the scale of the data, it also changes the unit of measurement**. \"\n",
    "\n",
    "https://stats.stackexchange.com/questions/243975/skewness-transformation-for-one-but-not-the-other-variable/243984#243984\n",
    "\n",
    "https://stats.stackexchange.com/questions/243975/skewness-transformation-for-one-but-not-the-other-variable/243984#243984"
   ]
  },
  {
   "cell_type": "markdown",
   "metadata": {},
   "source": [
    "#### References: \n",
    "\n",
    "http://www.kmdatascience.com/2017/07/box-cox-transformations-in-python.html\n",
    "\n",
    "    "
   ]
  }
 ],
 "metadata": {
  "kernelspec": {
   "display_name": "Python 3",
   "language": "python",
   "name": "python3"
  },
  "language_info": {
   "codemirror_mode": {
    "name": "ipython",
    "version": 3
   },
   "file_extension": ".py",
   "mimetype": "text/x-python",
   "name": "python",
   "nbconvert_exporter": "python",
   "pygments_lexer": "ipython3",
   "version": "3.6.5"
  }
 },
 "nbformat": 4,
 "nbformat_minor": 2
}